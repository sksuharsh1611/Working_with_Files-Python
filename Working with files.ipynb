{
 "cells": [
  {
   "cell_type": "code",
   "execution_count": 1,
   "id": "1f218253-7e89-417a-8910-023dcc5b5feb",
   "metadata": {},
   "outputs": [],
   "source": [
    "# File creation and operations"
   ]
  },
  {
   "cell_type": "code",
   "execution_count": 16,
   "id": "66633359-7f31-4046-8df5-5efcc629a58c",
   "metadata": {},
   "outputs": [],
   "source": [
    "f = open(\"test.txt\", 'w')  #creation on directory"
   ]
  },
  {
   "cell_type": "code",
   "execution_count": 17,
   "id": "e9d473d4-db68-474c-8c4c-8d7ed2b0acf3",
   "metadata": {},
   "outputs": [
    {
     "data": {
      "text/plain": [
       "'/home/jovyan/work'"
      ]
     },
     "execution_count": 17,
     "metadata": {},
     "output_type": "execute_result"
    }
   ],
   "source": [
    "pwd"
   ]
  },
  {
   "cell_type": "code",
   "execution_count": 18,
   "id": "c2f9c87d-2f08-46d6-a1b5-a12e9ad8adee",
   "metadata": {},
   "outputs": [
    {
     "name": "stdout",
     "output_type": "stream",
     "text": [
      " README.md           test.txt        'Working With Files.ipynb'\n",
      " sample-code.ipynb   Untitled.ipynb\n"
     ]
    }
   ],
   "source": [
    "ls"
   ]
  },
  {
   "cell_type": "code",
   "execution_count": 19,
   "id": "ccd143b7-9faf-43f3-a30e-75b84b80dfad",
   "metadata": {},
   "outputs": [
    {
     "name": "stdout",
     "output_type": "stream",
     "text": [
      "[Errno 2] No such file or directory: 'work'\n",
      "/home/jovyan/work\n"
     ]
    }
   ],
   "source": [
    "cd work"
   ]
  },
  {
   "cell_type": "code",
   "execution_count": 20,
   "id": "e321e797-aafa-4fee-a99c-ded70f0c2e3c",
   "metadata": {},
   "outputs": [
    {
     "data": {
      "text/plain": [
       "30"
      ]
     },
     "execution_count": 20,
     "metadata": {},
     "output_type": "execute_result"
    }
   ],
   "source": [
    "f.write(\"This is my first file to write\")"
   ]
  },
  {
   "cell_type": "code",
   "execution_count": 21,
   "id": "7357242a-9c0e-4c54-a2d5-e6316b9167bb",
   "metadata": {},
   "outputs": [],
   "source": [
    "f.close()  # To view written text in file"
   ]
  },
  {
   "cell_type": "code",
   "execution_count": 22,
   "id": "7e11dcb1-5e2d-4f5e-b1da-d97c69d72431",
   "metadata": {},
   "outputs": [],
   "source": [
    "f = open(\"test.txt\",'w')"
   ]
  },
  {
   "cell_type": "code",
   "execution_count": 24,
   "id": "38a5694d-a67f-43e1-9ede-d5bb71315f67",
   "metadata": {},
   "outputs": [
    {
     "data": {
      "text/plain": [
       "17"
      ]
     },
     "execution_count": 24,
     "metadata": {},
     "output_type": "execute_result"
    }
   ],
   "source": [
    "f.write(\"This is just file\")"
   ]
  },
  {
   "cell_type": "code",
   "execution_count": 25,
   "id": "8fad1106-b120-4d83-b5b2-cb0443976649",
   "metadata": {},
   "outputs": [],
   "source": [
    "f.close()"
   ]
  },
  {
   "cell_type": "code",
   "execution_count": 26,
   "id": "1cec662a-821a-4648-beb7-43b1a9e739ac",
   "metadata": {},
   "outputs": [],
   "source": [
    "f = open(\"test.txt\", 'a')  #Just append not truncate"
   ]
  },
  {
   "cell_type": "code",
   "execution_count": 27,
   "id": "2bf28f7a-f06d-43ba-bb3d-2c937f4ff5f7",
   "metadata": {},
   "outputs": [
    {
     "data": {
      "text/plain": [
       "30"
      ]
     },
     "execution_count": 27,
     "metadata": {},
     "output_type": "execute_result"
    }
   ],
   "source": [
    "f.write(\"Hi suharsh, jow are you buddy?\")"
   ]
  },
  {
   "cell_type": "code",
   "execution_count": 28,
   "id": "ef8a8691-8351-4814-bedb-d7f9e55b181e",
   "metadata": {},
   "outputs": [],
   "source": [
    "f.close()"
   ]
  },
  {
   "cell_type": "code",
   "execution_count": 29,
   "id": "e88fa135-2cd0-48e6-9911-19cc6dc73b76",
   "metadata": {},
   "outputs": [],
   "source": [
    "f = open(\"test.txt\", 'r')"
   ]
  },
  {
   "cell_type": "code",
   "execution_count": 30,
   "id": "964c360f-6ffb-4095-b4b0-ae3cf2d978df",
   "metadata": {},
   "outputs": [
    {
     "data": {
      "text/plain": [
       "'This is just fileThis is just fileHi suharsh, jow are you buddy?'"
      ]
     },
     "execution_count": 30,
     "metadata": {},
     "output_type": "execute_result"
    }
   ],
   "source": [
    "f.read()"
   ]
  },
  {
   "cell_type": "code",
   "execution_count": 32,
   "id": "733c0091-d51f-49a5-a34e-ba9b3cf0d0e4",
   "metadata": {},
   "outputs": [],
   "source": [
    "#To store within some variable\n",
    "data = open(\"test.txt\", 'r')"
   ]
  },
  {
   "cell_type": "code",
   "execution_count": 33,
   "id": "b6f708eb-cc5c-47c8-9b66-c3cdd3be6efc",
   "metadata": {},
   "outputs": [
    {
     "data": {
      "text/plain": [
       "'This is just fileThis is just fileHi suharsh, jow are you buddy?'"
      ]
     },
     "execution_count": 33,
     "metadata": {},
     "output_type": "execute_result"
    }
   ],
   "source": [
    "data.read()"
   ]
  },
  {
   "cell_type": "code",
   "execution_count": 34,
   "id": "22902cfc-87df-4343-9f5f-63406a0e5d0d",
   "metadata": {},
   "outputs": [
    {
     "data": {
      "text/plain": [
       "<_io.TextIOWrapper name='test.txt' mode='r' encoding='UTF-8'>"
      ]
     },
     "execution_count": 34,
     "metadata": {},
     "output_type": "execute_result"
    }
   ],
   "source": [
    "data"
   ]
  },
  {
   "cell_type": "code",
   "execution_count": 35,
   "id": "e3b91642-8958-42f8-8fee-01cf38f9a196",
   "metadata": {},
   "outputs": [
    {
     "data": {
      "text/plain": [
       "''"
      ]
     },
     "execution_count": 35,
     "metadata": {},
     "output_type": "execute_result"
    }
   ],
   "source": [
    "#to read line by line:\n",
    "data.readline()"
   ]
  },
  {
   "cell_type": "code",
   "execution_count": 36,
   "id": "854a0a4e-547d-4515-9438-6805cad59e4d",
   "metadata": {},
   "outputs": [
    {
     "data": {
      "text/plain": [
       "0"
      ]
     },
     "execution_count": 36,
     "metadata": {},
     "output_type": "execute_result"
    }
   ],
   "source": [
    "data.seek(0)  #Pointer ko daal do 0th position par"
   ]
  },
  {
   "cell_type": "code",
   "execution_count": 37,
   "id": "32695efb-6bfc-40ac-8974-1bb9d5d0dac1",
   "metadata": {},
   "outputs": [
    {
     "data": {
      "text/plain": [
       "'This is just fileThis is just fileHi suharsh, jow are you buddy?'"
      ]
     },
     "execution_count": 37,
     "metadata": {},
     "output_type": "execute_result"
    }
   ],
   "source": [
    "data.readline()"
   ]
  },
  {
   "cell_type": "code",
   "execution_count": 38,
   "id": "1b41e69d-39a6-46e1-b10b-7329e915cd8f",
   "metadata": {},
   "outputs": [
    {
     "data": {
      "text/plain": [
       "10"
      ]
     },
     "execution_count": 38,
     "metadata": {},
     "output_type": "execute_result"
    }
   ],
   "source": [
    "#to read data from 10th index\n",
    "data.seek(10)"
   ]
  },
  {
   "cell_type": "code",
   "execution_count": 39,
   "id": "fb2920d2-d49c-4056-b7cf-f684ad634183",
   "metadata": {},
   "outputs": [
    {
     "data": {
      "text/plain": [
       "'st fileThis is just fileHi suharsh, jow are you buddy?'"
      ]
     },
     "execution_count": 39,
     "metadata": {},
     "output_type": "execute_result"
    }
   ],
   "source": [
    "data.readline()"
   ]
  },
  {
   "cell_type": "code",
   "execution_count": 40,
   "id": "f63e9751-421d-4290-baae-b1b08241e178",
   "metadata": {},
   "outputs": [],
   "source": [
    "data1 = open(\"test.txt\", 'r')"
   ]
  },
  {
   "cell_type": "code",
   "execution_count": 41,
   "id": "8b45df07-2073-4828-be38-905e3a152360",
   "metadata": {},
   "outputs": [
    {
     "name": "stdout",
     "output_type": "stream",
     "text": [
      "This is just fileThis is just fileHi suharsh, jow are you buddy?\n"
     ]
    }
   ],
   "source": [
    "#using for loop read data line by line\n",
    "\n",
    "for i in data1:\n",
    "    print(i)"
   ]
  },
  {
   "cell_type": "code",
   "execution_count": 43,
   "id": "c8c0c2cf-88c6-4363-bd8e-d3abd6ea75e3",
   "metadata": {},
   "outputs": [],
   "source": [
    "f= open(\"test.txt\",'w')"
   ]
  },
  {
   "cell_type": "code",
   "execution_count": 44,
   "id": "e6d83682-dc66-41df-adb1-6e9468b121a4",
   "metadata": {},
   "outputs": [
    {
     "data": {
      "text/plain": [
       "2099"
      ]
     },
     "execution_count": 44,
     "metadata": {},
     "output_type": "execute_result"
    }
   ],
   "source": [
    "f.write(\"The world’s water resources are under increasing threat from the impacts of climate change, population growth, and pollution. As the global population grows, a persistent challenge is how to access enough water to meet humanity’s needs while also preserving the integrity of aquatic ecosystems. The Pacific Institute works on water resource issues around the globe, collaborating with stakeholders to ensure communities and nature have the water they need to thrive now and in the future. Internationally, the Institute promotes source water protection and “green infrastructure” solutions in order to increase the climate resiliency of water systems and improve ecosystem function. The Institute collects, catalogues, and shares good practice examples of nature-based solutions; catalyzes investment in green infrastructure projects; and connects stakeholders with a common interest in advancing nature-based solutions. In California, the Institute has played an active role at the Salton Sea for more than two decades, emphasizing the importance of the sea and the negative consequences of failing to act on its behalf. The Institute has produced leading reports on the sea, developed restoration concepts, participated on the state’s Salton Sea Advisory Committee, and continues to work actively with state agencies and local stakeholders to get real habitat constructed on the ground to benefit at-risk species and to diminish the amount of dust blowing off of the sea’s exposed lakebed. The Institute has engaged in Colorado River research and decision-making for more than twenty years, from early reports on climate change impacts on the basin, to a 1996 report on sustainable use of the river, to policy proposals for surplus and shortage criteria and the ongoing Basin Study. We have developed pragmatic, feasible solutions to the problems that challenge the river, for the people, fish, and wildlife that depend upon it. Our Colorado River work has also included place-specific research and restoration proposals for the Salton Sea, the Laguna Reach, and the limitrophe reach of the River.\")"
   ]
  },
  {
   "cell_type": "code",
   "execution_count": 45,
   "id": "5e1249b2-ad02-49e4-8422-70a62a95be61",
   "metadata": {},
   "outputs": [],
   "source": [
    "f.close()"
   ]
  },
  {
   "cell_type": "code",
   "execution_count": 46,
   "id": "6a3b9c46-517a-4c2a-a9ed-9b08f302178f",
   "metadata": {},
   "outputs": [],
   "source": [
    "data2 = open(\"test.txt\",'r')"
   ]
  },
  {
   "cell_type": "code",
   "execution_count": 47,
   "id": "998b5db1-9357-4e5d-8d2a-3cdc282e690a",
   "metadata": {},
   "outputs": [
    {
     "name": "stdout",
     "output_type": "stream",
     "text": [
      "The world’s water resources are under increasing threat from the impacts of climate change, population growth, and pollution. As the global population grows, a persistent challenge is how to access enough water to meet humanity’s needs while also preserving the integrity of aquatic ecosystems. The Pacific Institute works on water resource issues around the globe, collaborating with stakeholders to ensure communities and nature have the water they need to thrive now and in the future. Internationally, the Institute promotes source water protection and “green infrastructure” solutions in order to increase the climate resiliency of water systems and improve ecosystem function. The Institute collects, catalogues, and shares good practice examples of nature-based solutions; catalyzes investment in green infrastructure projects; and connects stakeholders with a common interest in advancing nature-based solutions. In California, the Institute has played an active role at the Salton Sea for more than two decades, emphasizing the importance of the sea and the negative consequences of failing to act on its behalf. The Institute has produced leading reports on the sea, developed restoration concepts, participated on the state’s Salton Sea Advisory Committee, and continues to work actively with state agencies and local stakeholders to get real habitat constructed on the ground to benefit at-risk species and to diminish the amount of dust blowing off of the sea’s exposed lakebed. The Institute has engaged in Colorado River research and decision-making for more than twenty years, from early reports on climate change impacts on the basin, to a 1996 report on sustainable use of the river, to policy proposals for surplus and shortage criteria and the ongoing Basin Study. We have developed pragmatic, feasible solutions to the problems that challenge the river, for the people, fish, and wildlife that depend upon it. Our Colorado River work has also included place-specific research and restoration proposals for the Salton Sea, the Laguna Reach, and the limitrophe reach of the River.\n"
     ]
    }
   ],
   "source": [
    "for i in data2:\n",
    "    print(i)"
   ]
  },
  {
   "cell_type": "code",
   "execution_count": 48,
   "id": "833da924-7cda-41d1-a64c-b46f9d293d95",
   "metadata": {},
   "outputs": [],
   "source": [
    "#To get size of file\n",
    "\n",
    "import os"
   ]
  },
  {
   "cell_type": "code",
   "execution_count": 49,
   "id": "bae5b1b5-f8de-46db-b791-8ebc65f30cda",
   "metadata": {},
   "outputs": [
    {
     "data": {
      "text/plain": [
       "2111"
      ]
     },
     "execution_count": 49,
     "metadata": {},
     "output_type": "execute_result"
    }
   ],
   "source": [
    "os.path.getsize(\"test.txt\")"
   ]
  },
  {
   "cell_type": "code",
   "execution_count": 50,
   "id": "18bbe071-d83f-4a94-a727-70b55e7c6b5c",
   "metadata": {},
   "outputs": [],
   "source": [
    "#TO delete any file\n",
    "os.remove(\"test.txt\")"
   ]
  },
  {
   "cell_type": "code",
   "execution_count": 51,
   "id": "5a81ea22-3cb3-44f4-abe2-14a6d6c8197a",
   "metadata": {},
   "outputs": [],
   "source": [
    "f = open(\"test1.txt\", 'w')"
   ]
  },
  {
   "cell_type": "code",
   "execution_count": 52,
   "id": "6987cf86-7350-4339-adbe-571d149392a1",
   "metadata": {},
   "outputs": [
    {
     "data": {
      "text/plain": [
       "314"
      ]
     },
     "execution_count": 52,
     "metadata": {},
     "output_type": "execute_result"
    }
   ],
   "source": [
    "f.write(\"We have developed pragmatic, feasible solutions to the problems that challenge the river, for the people, fish, and wildlife that depend upon it. Our Colorado River work has also included place-specific research and restoration proposals for the Salton Sea, the Laguna Reach, and the limitrophe reach of the River.\")"
   ]
  },
  {
   "cell_type": "code",
   "execution_count": 53,
   "id": "8d6fdc58-2df1-4e3b-b8d8-2158719de92e",
   "metadata": {},
   "outputs": [],
   "source": [
    "f.close() #To write permanently"
   ]
  },
  {
   "cell_type": "code",
   "execution_count": 55,
   "id": "53b4f82d-5c91-4fa5-afb5-ea6a260b6c10",
   "metadata": {},
   "outputs": [],
   "source": [
    "#To rename the existing file\n",
    "os.rename(\"test1.txt\",\"new.txt\")"
   ]
  },
  {
   "cell_type": "code",
   "execution_count": 56,
   "id": "671f8406-f7a5-4574-9f9e-20bee97cb73e",
   "metadata": {},
   "outputs": [],
   "source": [
    "#TO create copy/multiple copies of existing file\n",
    "import shutil"
   ]
  },
  {
   "cell_type": "code",
   "execution_count": 57,
   "id": "cbdc8de4-ec69-4e97-aacd-4bc8e8ed9e6d",
   "metadata": {},
   "outputs": [
    {
     "data": {
      "text/plain": [
       "'copy_new.txt'"
      ]
     },
     "execution_count": 57,
     "metadata": {},
     "output_type": "execute_result"
    }
   ],
   "source": [
    "shutil.copy(\"new.txt\",\"copy_new.txt\")"
   ]
  },
  {
   "cell_type": "code",
   "execution_count": 59,
   "id": "ffe8d7ab-bfc6-4aed-8858-be58d975bf79",
   "metadata": {},
   "outputs": [
    {
     "name": "stdout",
     "output_type": "stream",
     "text": [
      "We have developed pragmatic, feasible solutions to the problems that challenge the river, for the people, fish, and wildlife that depend upon it. Our Colorado River work has also included place-specific research and restoration proposals for the Salton Sea, the Laguna Reach, and the limitrophe reach of the River.\n"
     ]
    }
   ],
   "source": [
    "# Way 2: > To write inside a file\n",
    "\n",
    "with open(\"new.txt\", \"r\") as f:\n",
    "    print(f.read())"
   ]
  },
  {
   "cell_type": "code",
   "execution_count": 60,
   "id": "8643a5c4-ce6b-4446-9e32-83981ddd3dfc",
   "metadata": {},
   "outputs": [],
   "source": [
    "f = open(\"File reading and Writing.pynb\",'w')"
   ]
  },
  {
   "cell_type": "code",
   "execution_count": null,
   "id": "b093e980-f5ce-4295-a349-ee5677a35279",
   "metadata": {},
   "outputs": [],
   "source": []
  }
 ],
 "metadata": {
  "kernelspec": {
   "display_name": "Python 3 (ipykernel)",
   "language": "python",
   "name": "python3"
  },
  "language_info": {
   "codemirror_mode": {
    "name": "ipython",
    "version": 3
   },
   "file_extension": ".py",
   "mimetype": "text/x-python",
   "name": "python",
   "nbconvert_exporter": "python",
   "pygments_lexer": "ipython3",
   "version": "3.10.8"
  }
 },
 "nbformat": 4,
 "nbformat_minor": 5
}
