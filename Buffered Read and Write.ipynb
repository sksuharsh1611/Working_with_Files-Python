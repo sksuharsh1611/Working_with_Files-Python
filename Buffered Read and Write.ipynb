{
 "cells": [
  {
   "cell_type": "code",
   "execution_count": 1,
   "id": "3e65476a-2560-4a4c-9a3a-4d8210e52c56",
   "metadata": {},
   "outputs": [],
   "source": [
    "# Buffered read/write >> Write big files into chunk\n",
    "\n",
    "# io.BufferedWriter(raw, buffer_size=8192)"
   ]
  },
  {
   "cell_type": "code",
   "execution_count": 2,
   "id": "1b575bfe-3cc8-4a6d-898d-33b59429acfb",
   "metadata": {},
   "outputs": [],
   "source": [
    "import io"
   ]
  },
  {
   "cell_type": "code",
   "execution_count": 4,
   "id": "48078b64-04da-4fff-b4f1-074e3b45bed2",
   "metadata": {},
   "outputs": [],
   "source": [
    "with open(\"test1.txt\",\"wb\") as f:\n",
    "    file = io.BufferedWriter(f)\n",
    "    \n",
    "    file.write(b\"This is my first line\")\n",
    "    file.write(b\"This is my second line \\n\")\n",
    "    file.flush()  #To see text in file "
   ]
  },
  {
   "cell_type": "code",
   "execution_count": 6,
   "id": "fd0d9529-c957-42de-8823-b92a78a128c8",
   "metadata": {},
   "outputs": [],
   "source": [
    "with open(\"test1.txt\",\"wb\") as f:\n",
    "    file = io.BufferedWriter(f)\n",
    "    \n",
    "    file.write(b\"1) Goat is a useful and a domestic animal which was tamed by humans from a very long time. 2) Goat has four legs and a small tail and has horns on its head; the size can be from small to medium. 3) Goat has hooves on its legs and a long beard on its chin and the skin of the goat contains fur\")\n",
    "    file.write(b\"\\nThis is my second line \\n\")\n",
    "    file.flush()  #To see text in file "
   ]
  },
  {
   "cell_type": "code",
   "execution_count": 8,
   "id": "77bb28cd-3b12-4eba-b9ac-2d11d2f15784",
   "metadata": {},
   "outputs": [
    {
     "name": "stdout",
     "output_type": "stream",
     "text": [
      "b'1) Goat is a useful and a domestic animal which was tamed by humans from a very long time. 2) Goat has four legs and a small tail and has horns on its head; the size can be from small to medium. 3) Goat has hooves on its legs and a long beard on its chin and the skin of the goat contains fur\\nThis is my second line \\n'\n"
     ]
    }
   ],
   "source": [
    "# To read buffer file\n",
    "with open(\"test1.txt\",'rb') as f:\n",
    "    \n",
    "    file = io.BufferedReader(f)\n",
    "    print(file.read())\n",
    "    "
   ]
  },
  {
   "cell_type": "code",
   "execution_count": 9,
   "id": "abb9ab05-c215-4658-a0c1-e34b794492d8",
   "metadata": {},
   "outputs": [
    {
     "name": "stdout",
     "output_type": "stream",
     "text": [
      "b'1) Goat is a useful and a domestic animal which was tamed by humans from a very long time. 2) Goat has four legs and a small tail and has horns on its head; the size can be from small to medium. 3) Goat has hooves on its legs and a long beard on its chin and the skin of the goat contains fur\\nThis is my second line \\n'\n"
     ]
    }
   ],
   "source": [
    "# To read buffer file\n",
    "with open(\"test1.txt\",'rb') as f:\n",
    "    \n",
    "    file = io.BufferedReader(f)\n",
    "    data = file.read()\n",
    "    print(data)"
   ]
  },
  {
   "cell_type": "code",
   "execution_count": 10,
   "id": "c77fb094-abbb-4dc8-948a-5d984237af69",
   "metadata": {},
   "outputs": [
    {
     "name": "stdout",
     "output_type": "stream",
     "text": [
      "b'1) Goat is a useful and a domestic animal which was tamed by humans from a very long time. 2) Goat h'\n"
     ]
    }
   ],
   "source": [
    "# To read specific amount of data:\n",
    "with open(\"test1.txt\",'rb') as f:\n",
    "    \n",
    "    file = io.BufferedReader(f)\n",
    "    data = file.read(100)\n",
    "    print(data)"
   ]
  },
  {
   "cell_type": "code",
   "execution_count": 11,
   "id": "e0f10a9f-6a8b-4a1b-a85a-574075595b2d",
   "metadata": {},
   "outputs": [
    {
     "name": "stdout",
     "output_type": "stream",
     "text": [
      "b'1) Goat is a useful and a'\n"
     ]
    }
   ],
   "source": [
    "with open(\"test1.txt\",'rb') as f:\n",
    "    \n",
    "    file = io.BufferedReader(f)\n",
    "    data = file.read(25)\n",
    "    print(data)"
   ]
  },
  {
   "cell_type": "code",
   "execution_count": null,
   "id": "ae96f2d3-956c-447d-8597-6093c561f72c",
   "metadata": {},
   "outputs": [],
   "source": []
  }
 ],
 "metadata": {
  "kernelspec": {
   "display_name": "Python 3 (ipykernel)",
   "language": "python",
   "name": "python3"
  },
  "language_info": {
   "codemirror_mode": {
    "name": "ipython",
    "version": 3
   },
   "file_extension": ".py",
   "mimetype": "text/x-python",
   "name": "python",
   "nbconvert_exporter": "python",
   "pygments_lexer": "ipython3",
   "version": "3.10.8"
  }
 },
 "nbformat": 4,
 "nbformat_minor": 5
}
