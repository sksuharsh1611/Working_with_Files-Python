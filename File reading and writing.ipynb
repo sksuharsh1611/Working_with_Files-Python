{
 "cells": [
  {
   "cell_type": "code",
   "execution_count": 1,
   "id": "91e5737b-b805-4541-b769-9f5c6bf6aa3b",
   "metadata": {},
   "outputs": [],
   "source": [
    "# file operation on different type of files"
   ]
  },
  {
   "cell_type": "code",
   "execution_count": 2,
   "id": "d4c6777d-2900-4b9c-94a7-f3546c999a7c",
   "metadata": {},
   "outputs": [],
   "source": [
    "# JSON DATA-SET > javascript object notation \n",
    "# (Data in form of key-value pair)\n",
    "data = {\n",
    "    \"name\" : \"suharsh\",\n",
    "    \"email\" : \"sk@gmail.com\",\n",
    "    \"phone_number\" : 6200283942,\n",
    "    \"subject\" : [\"Data Science\",\"Big data\",\"Data Analytics\"]\n",
    "}"
   ]
  },
  {
   "cell_type": "code",
   "execution_count": 3,
   "id": "85454b2c-a919-4234-b132-0441987d4d64",
   "metadata": {},
   "outputs": [],
   "source": [
    "#to write json data into a file\n",
    "\n",
    "import json"
   ]
  },
  {
   "cell_type": "code",
   "execution_count": 4,
   "id": "eb73f899-d9af-43fa-9222-262af5e4e338",
   "metadata": {},
   "outputs": [],
   "source": [
    "with open (\"data.json\",\"w\") as f:\n",
    "    json.dump(data, f)    #To perform write using dump"
   ]
  },
  {
   "cell_type": "code",
   "execution_count": 5,
   "id": "28fb7c61-cfce-48d5-b578-dc2668f072f3",
   "metadata": {},
   "outputs": [],
   "source": [
    "#To read json data from file\n",
    "\n",
    "with open(\"data.json\", 'r') as f:\n",
    "    data1= json.load(f)  #To perform read using load()"
   ]
  },
  {
   "cell_type": "code",
   "execution_count": 6,
   "id": "823abb04-13ef-4f51-84fd-1ccdb3de410b",
   "metadata": {},
   "outputs": [
    {
     "data": {
      "text/plain": [
       "{'name': 'suharsh',\n",
       " 'email': 'sk@gmail.com',\n",
       " 'phone_number': 6200283942,\n",
       " 'subject': ['Data Science', 'Big data', 'Data Analytics']}"
      ]
     },
     "execution_count": 6,
     "metadata": {},
     "output_type": "execute_result"
    }
   ],
   "source": [
    "data1"
   ]
  },
  {
   "cell_type": "code",
   "execution_count": 7,
   "id": "71a82dd7-aa41-41ac-8ef9-9b8093a4e87f",
   "metadata": {},
   "outputs": [
    {
     "data": {
      "text/plain": [
       "['Data Science', 'Big data', 'Data Analytics']"
      ]
     },
     "execution_count": 7,
     "metadata": {},
     "output_type": "execute_result"
    }
   ],
   "source": [
    "data1[\"subject\"]"
   ]
  },
  {
   "cell_type": "code",
   "execution_count": 8,
   "id": "fb57b070-0fa1-450c-92f1-7ce2bdcd8fe6",
   "metadata": {},
   "outputs": [
    {
     "data": {
      "text/plain": [
       "'Big data'"
      ]
     },
     "execution_count": 8,
     "metadata": {},
     "output_type": "execute_result"
    }
   ],
   "source": [
    "data1[\"subject\"][1]"
   ]
  },
  {
   "cell_type": "code",
   "execution_count": 9,
   "id": "e44f1b5c-4381-4971-beb8-65a0b5dd22e5",
   "metadata": {},
   "outputs": [],
   "source": [
    "# # Data having comma separated values :\n",
    "\n",
    "# # csv files > comma separated values files\n",
    "\n",
    "# Data is structured form of data:\n",
    "#     data must be stored in a tabular form[Table]\n",
    "\n",
    "#Delimiters can be used to separate and store data\n",
    "\n",
    "# #To read and write these file:"
   ]
  },
  {
   "cell_type": "code",
   "execution_count": 16,
   "id": "f206e9b6-0d95-4c05-a181-53891bdfb2d7",
   "metadata": {},
   "outputs": [],
   "source": [
    "import csv"
   ]
  },
  {
   "cell_type": "code",
   "execution_count": 17,
   "id": "bb304ef4-71e2-4317-b05e-da64f20cb69a",
   "metadata": {},
   "outputs": [],
   "source": [
    "data = [[\"name\" , \"email\" , \"phone_number\"], #creating columns\n",
    "        [\"suharsh\" , \"sk@gmail.com\" , 7870779155],\n",
    "        [\"monty\" , \"mk@gmail.com\" , 547897457]\n",
    "]"
   ]
  },
  {
   "cell_type": "code",
   "execution_count": 18,
   "id": "077a2914-d945-4383-8ffa-9482a9643162",
   "metadata": {},
   "outputs": [],
   "source": [
    "#TO WRITE IN csv file\n",
    "with open(\"data.csv\",'w') as f:\n",
    "    writer = csv.writer(f)\n",
    "    \n",
    "    for i in data:\n",
    "        writer.writerow(i)"
   ]
  },
  {
   "cell_type": "code",
   "execution_count": 19,
   "id": "0e9d1d20-a886-4180-b41f-4e89611e87d7",
   "metadata": {},
   "outputs": [
    {
     "name": "stdout",
     "output_type": "stream",
     "text": [
      "['name', 'email', 'phone_number']\n",
      "['suharsh', 'sk@gmail.com', '7870779155']\n",
      "['monty', 'mk@gmail.com', '547897457']\n"
     ]
    }
   ],
   "source": [
    "#To read from csv file:\n",
    "\n",
    "with open(\"data.csv\",'r') as f:\n",
    "    read_data = csv.reader(f) \n",
    "    \n",
    "    for i in read_data:\n",
    "        print(i)"
   ]
  },
  {
   "cell_type": "code",
   "execution_count": 20,
   "id": "603498a3-8266-4252-b51a-6c96993abba1",
   "metadata": {},
   "outputs": [],
   "source": [
    "# Binary Data: In form of 0,1 or hexadecimal\n",
    "\n",
    "# It's not human readable> need to be converted first\n",
    "\n",
    "#to read and write binary data\n",
    "# ex: image, video, audio in text_file\n",
    "\n",
    "#Extension : .bin"
   ]
  },
  {
   "cell_type": "code",
   "execution_count": 22,
   "id": "3bf34ca8-3f29-40bb-b666-ac10c911780c",
   "metadata": {},
   "outputs": [
    {
     "ename": "TypeError",
     "evalue": "write() argument must be str, not bytes",
     "output_type": "error",
     "traceback": [
      "\u001b[0;31m---------------------------------------------------------------------------\u001b[0m",
      "\u001b[0;31mTypeError\u001b[0m                                 Traceback (most recent call last)",
      "Cell \u001b[0;32mIn[22], line 2\u001b[0m\n\u001b[1;32m      1\u001b[0m \u001b[38;5;28;01mwith\u001b[39;00m \u001b[38;5;28mopen\u001b[39m(\u001b[38;5;124m\"\u001b[39m\u001b[38;5;124mtest4.bin\u001b[39m\u001b[38;5;124m\"\u001b[39m,\u001b[38;5;124m'\u001b[39m\u001b[38;5;124mw\u001b[39m\u001b[38;5;124m'\u001b[39m) \u001b[38;5;28;01mas\u001b[39;00m f:\n\u001b[0;32m----> 2\u001b[0m     \u001b[43mf\u001b[49m\u001b[38;5;241;43m.\u001b[39;49m\u001b[43mwrite\u001b[49m\u001b[43m(\u001b[49m\u001b[38;5;124;43mb\u001b[39;49m\u001b[38;5;124;43m\"\u001b[39;49m\u001b[38;5;130;43;01m\\x01\u001b[39;49;00m\u001b[38;5;130;43;01m\\x02\u001b[39;49;00m\u001b[38;5;130;43;01m\\x03\u001b[39;49;00m\u001b[38;5;124;43m\"\u001b[39;49m\u001b[43m)\u001b[49m\n",
      "\u001b[0;31mTypeError\u001b[0m: write() argument must be str, not bytes"
     ]
    }
   ],
   "source": [
    "with open(\"test4.bin\",'w') as f:\n",
    "    f.write(b\"\\x01\\x02\\x03\")"
   ]
  },
  {
   "cell_type": "code",
   "execution_count": 25,
   "id": "eaca33c8-e9bd-4525-9e68-b11956fb9a59",
   "metadata": {},
   "outputs": [],
   "source": [
    "# To write into a binary file:\n",
    "with open(\"test4.bin\",'wb') as f:\n",
    "    f.write(b\"\\x01\\x02\\x03\\x33736837\")"
   ]
  },
  {
   "cell_type": "code",
   "execution_count": 26,
   "id": "332daafa-6800-4f20-b924-28e71cdbec0e",
   "metadata": {},
   "outputs": [
    {
     "name": "stdout",
     "output_type": "stream",
     "text": [
      "b'\\x01\\x02\\x033736837'\n"
     ]
    }
   ],
   "source": [
    "# To read data from binary files:\n",
    "\n",
    "with open(\"test4.bin\",\"rb\") as f:\n",
    "    print(f.read())"
   ]
  },
  {
   "cell_type": "code",
   "execution_count": null,
   "id": "8c07755e-789e-4dfa-a9b7-2519a4ebe650",
   "metadata": {},
   "outputs": [],
   "source": []
  }
 ],
 "metadata": {
  "kernelspec": {
   "display_name": "Python 3 (ipykernel)",
   "language": "python",
   "name": "python3"
  },
  "language_info": {
   "codemirror_mode": {
    "name": "ipython",
    "version": 3
   },
   "file_extension": ".py",
   "mimetype": "text/x-python",
   "name": "python",
   "nbconvert_exporter": "python",
   "pygments_lexer": "ipython3",
   "version": "3.10.8"
  }
 },
 "nbformat": 4,
 "nbformat_minor": 5
}
